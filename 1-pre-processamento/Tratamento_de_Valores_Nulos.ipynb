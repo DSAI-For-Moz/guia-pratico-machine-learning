{
 "cells": [
  {
   "cell_type": "markdown",
   "id": "a8a4c2e1",
   "metadata": {},
   "source": [
    "# Tratamento de Dados em Falta\r\n",
    "\r\n",
    "### O que são dados em falta?\r\n",
    "\r\n",
    "Os dados em falta, também chamados de valores nulos, representam a ausência de informação numa determinada entrada de um conjunto de dados. Estas ausências podem ocorrer por vários motivos, como erros durante a recolha de dados, campos não aplicáveis a certas observações, ou até limitações técnicas no sistema utilizado para armazenar os dados.\r\n",
    "\r\n",
    "Por exemplo, num sistema de registo hospitalar, pode acontecer que informações como \"idade\" ou \"pressão arterial\" estejam em falta porque não foram recolhidas no momento da consulta ou porque não são relevantes para todos os pacientes.\r\n",
    "\r\n",
    "### Por que motivo devemos tratar os dados em falta?\r\n",
    "\r\n",
    "A presença de dados em falta pode prejudicar gravemente a análise de dados e a criação de modelos preditivos. Muitos algoritmos de machine learning e métodos estatísticos não conseguem lidar adequadamente com valores ausentes, o que pode comprometer a precisão dos resultados ou, em alguns casos, impedir a execução da análise.\r\n",
    "\r\n",
    "Além disso, a ausência de dados pode distorcer a análise ao criar interpretações erradas de padrões ou correlações. Assim, o tratamento adequado dos dados em falta é essencial para garantir que os resultados sejam fiáveis e representem correctamente a realidade do fenómeno em estudo.\r\n"
   ]
  },
  {
   "cell_type": "markdown",
   "id": "41d1ba38-1fd7-45d1-bce8-95490ee744c4",
   "metadata": {},
   "source": [
    "### Célula 1: Instalação das Bibliotecas\n",
    "\n",
    "Se necessário, instale as bibliotecas pandas e numpy\n",
    "Esta célula é útil se estiveres a correr o notebook num ambiente onde estas bibliotecas não estejam instaladas.\n",
    "Podes descomentar a linha abaixo para fazer a instalação diretamente no Jupyter Notebook.\n",
    "\n",
    "\n"
   ]
  },
  {
   "cell_type": "code",
   "execution_count": null,
   "id": "32073f80-4212-43db-be0c-313ff55381d4",
   "metadata": {},
   "outputs": [],
   "source": [
    "# !pip install pandas numpy"
   ]
  },
  {
   "cell_type": "code",
   "execution_count": 21,
   "id": "966c1e78-9e5c-4b51-a4d6-17879a5ab3bd",
   "metadata": {},
   "outputs": [],
   "source": [
    "# Importar as bibliotecas pandas e numpy. Pandas é utilizado para manipulação e análise de dados, enquanto Numpy é útil para operações com arrays e cálculos numéricos.\n",
    "\n",
    "import pandas as pd\n",
    "import numpy as np\n"
   ]
  },
  {
   "cell_type": "code",
   "execution_count": 19,
   "id": "ce3eba1c-ee13-46a1-9c28-b72897ae77c8",
   "metadata": {},
   "outputs": [
    {
     "name": "stdout",
     "output_type": "stream",
     "text": [
      "Survived     0.000000\n",
      "Pclass       0.000000\n",
      "Name         0.000000\n",
      "Sex          0.000000\n",
      "Age         19.865320\n",
      "SibSp        0.000000\n",
      "Parch        0.000000\n",
      "Ticket       0.000000\n",
      "Fare         0.000000\n",
      "Cabin       77.104377\n",
      "Embarked     0.224467\n",
      "dtype: float64\n"
     ]
    }
   ],
   "source": [
    "# # Carregar conjunto de dados do link GitHub\n",
    "dataset = pd.read_csv(\"https://raw.githubusercontent.com/DSAI-For-Moz/guia-pratico-machine-learning/refs/heads/main/datasets/pre-processamento/Titanic-Dataset.csv\")\n",
    "\n",
    "# Eliminamos a coluna PassengerID por nao ter um valor intrínseco na interpretação dos dados (apenas ID para o SGDB)\n",
    "dataset.drop([\"PassengerId\"], axis='columns', inplace=True)\n",
    "\n",
    "# Percentagem de valores nulos por coluna\n",
    "null_percentage = (dataset.isnull().sum() / len(dataset)) * 100\n",
    "print(null_percentage)\n"
   ]
  },
  {
   "cell_type": "markdown",
   "id": "3b498b8e",
   "metadata": {},
   "source": [
    "Podemos observar que as colunas **Age, Cabin e Embarked** tem valores nulos em uma percentagem de **20%, 77% e 2%** respectivamente\n",
    "\n",
    "No passo a seguir, iremos aplicar algumas técnicas de tratamento de valores nulos, tendo em conta o valor intrínseco dos dados.\n"
   ]
  },
  {
   "cell_type": "markdown",
   "id": "d4f0dfdb",
   "metadata": {},
   "source": [
    "### Técnicas de Tratamento\n",
    "\n",
    "Existem diversas técnicas para lidar com valores nulos, e a escolha da melhor abordagem depende do contexto específico do problema e do tipo de análise que será realizada\n",
    "\n",
    "## **1. Exclusão de Observações:**\n",
    " "
   ]
  },
  {
   "cell_type": "code",
   "execution_count": 3,
   "id": "0347c462",
   "metadata": {},
   "outputs": [
    {
     "data": {
      "text/plain": [
       "(891, 11)"
      ]
     },
     "execution_count": 3,
     "metadata": {},
     "output_type": "execute_result"
    }
   ],
   "source": [
    "df = dataset.copy()\n",
    "df.shape"
   ]
  },
  {
   "cell_type": "markdown",
   "id": "eaa2bbfc",
   "metadata": {},
   "source": [
    "**Exclusão completa**: Remover todas as linhas que contenham pelo menos um valor nulo. Essa técnica é simples, mas pode levar à perda de muitas informações, especialmente se os dados nulos estiverem distribuídos aleatoriamente.\n",
    "\n",
    "Para a feature **Embarked** observamos uma taxa de valores nulos relativamente baixa. Assim sendo, opta-se por eliminar observações cujo valor esteja ausente:"
   ]
  },
  {
   "cell_type": "code",
   "execution_count": 4,
   "id": "290cf675",
   "metadata": {},
   "outputs": [
    {
     "name": "stdout",
     "output_type": "stream",
     "text": [
      "Percentagem de valores nulos apos eliminar registros nulos na coluna Embarked: \n"
     ]
    },
    {
     "data": {
      "text/plain": [
       "Survived     0.000000\n",
       "Pclass       0.000000\n",
       "Name         0.000000\n",
       "Sex          0.000000\n",
       "Age         19.910011\n",
       "SibSp        0.000000\n",
       "Parch        0.000000\n",
       "Ticket       0.000000\n",
       "Fare         0.000000\n",
       "Cabin       77.277840\n",
       "Embarked     0.000000\n",
       "dtype: float64"
      ]
     },
     "execution_count": 4,
     "metadata": {},
     "output_type": "execute_result"
    }
   ],
   "source": [
    "df = df.dropna(subset=[\"Embarked\"], axis=0)\n",
    "\n",
    "print(\"Percentagem de valores nulos apos eliminar registros nulos na coluna Embarked: \")\n",
    "(df.isnull().sum()/len(df))*100"
   ]
  },
  {
   "cell_type": "markdown",
   "id": "7087c41d",
   "metadata": {},
   "source": [
    "**Exclusão por coluna**: Remove as colunas que contenham muitos valores nulos. Essa técnica é útil quando uma coluna tem um número muito grande de valores ausentes, tornando-a pouco informativa.\n",
    "\n",
    "Em situações em que a quantidade de valores nulos seja relativamente alta em relação ao número total de observações, optou-se por eliminar a coluna. \n",
    "\n",
    "Neste caso não optamos por imputar valores representativos como a média ou mediana. Pois ao eliminar a coluna evitamos atribuir em grande escala,  valores equivocados ao modelo, e consequentemente afetar a sua precisão.\n"
   ]
  },
  {
   "cell_type": "code",
   "execution_count": 5,
   "id": "5f460ada",
   "metadata": {},
   "outputs": [
    {
     "name": "stdout",
     "output_type": "stream",
     "text": [
      "Formato do dataset apos eliminar a coluna Cabin: \n",
      "(889, 10)\n"
     ]
    },
    {
     "data": {
      "text/plain": [
       "Survived     0.000000\n",
       "Pclass       0.000000\n",
       "Name         0.000000\n",
       "Sex          0.000000\n",
       "Age         19.910011\n",
       "SibSp        0.000000\n",
       "Parch        0.000000\n",
       "Ticket       0.000000\n",
       "Fare         0.000000\n",
       "Embarked     0.000000\n",
       "dtype: float64"
      ]
     },
     "execution_count": 5,
     "metadata": {},
     "output_type": "execute_result"
    }
   ],
   "source": [
    "df.drop( [\"Cabin\"], axis='columns', inplace=True) \n",
    "\n",
    "print(\"Formato do dataset apos eliminar a coluna Cabin: \")\n",
    "print(df.shape)\n",
    "\n",
    "(df.isnull().sum()/len(df))*100"
   ]
  },
  {
   "cell_type": "markdown",
   "id": "b3d4d26d",
   "metadata": {},
   "source": [
    "## **2. Imputação de Valores:**\n",
    "Esta abordagem permite preencher valores ausentes em um conjunto de dados \n"
   ]
  },
  {
   "cell_type": "code",
   "execution_count": 6,
   "id": "f79dab11",
   "metadata": {},
   "outputs": [
    {
     "data": {
      "text/plain": [
       "Survived     0.000000\n",
       "Pclass       0.000000\n",
       "Name         0.000000\n",
       "Sex          0.000000\n",
       "Age         19.910011\n",
       "SibSp        0.000000\n",
       "Parch        0.000000\n",
       "Ticket       0.000000\n",
       "Fare         0.000000\n",
       "Embarked     0.000000\n",
       "dtype: float64"
      ]
     },
     "execution_count": 6,
     "metadata": {},
     "output_type": "execute_result"
    }
   ],
   "source": [
    "df2 = df.copy()\n",
    "(df2.isnull().sum()/len(df))*100"
   ]
  },
  {
   "cell_type": "markdown",
   "id": "36b6a6e9",
   "metadata": {},
   "source": [
    "\n",
    "**Imputação por média, mediana ou moda**: \n",
    "**Média**: Útil em dados simétricos, mas pode ser afetada por outliers.<br>\n",
    "**Mediana**: Melhor para dados assimétricos, pois é menos sensível a outliers.<br>\n",
    "**Moda**: Ideal para dados categóricos, substituindo valores nulos pela categoria mais frequente.\n",
    " \n"
   ]
  },
  {
   "cell_type": "markdown",
   "id": "3e67a437",
   "metadata": {},
   "source": [
    "Alterne em cada método abaixo: remove o '#' <br> "
   ]
  },
  {
   "cell_type": "code",
   "execution_count": 7,
   "id": "b4fcf4ce",
   "metadata": {},
   "outputs": [
    {
     "name": "stdout",
     "output_type": "stream",
     "text": [
      "Coluna Age após imputar por média/mediana/moda: \n",
      "Survived    0.0\n",
      "Pclass      0.0\n",
      "Name        0.0\n",
      "Sex         0.0\n",
      "Age         0.0\n",
      "SibSp       0.0\n",
      "Parch       0.0\n",
      "Ticket      0.0\n",
      "Fare        0.0\n",
      "Embarked    0.0\n",
      "dtype: float64\n",
      "\n",
      "DataFrame após imputação por média/mediana/moda:\n"
     ]
    },
    {
     "data": {
      "text/html": [
       "<div>\n",
       "<style scoped>\n",
       "    .dataframe tbody tr th:only-of-type {\n",
       "        vertical-align: middle;\n",
       "    }\n",
       "\n",
       "    .dataframe tbody tr th {\n",
       "        vertical-align: top;\n",
       "    }\n",
       "\n",
       "    .dataframe thead th {\n",
       "        text-align: right;\n",
       "    }\n",
       "</style>\n",
       "<table border=\"1\" class=\"dataframe\">\n",
       "  <thead>\n",
       "    <tr style=\"text-align: right;\">\n",
       "      <th></th>\n",
       "      <th>Survived</th>\n",
       "      <th>Pclass</th>\n",
       "      <th>Name</th>\n",
       "      <th>Sex</th>\n",
       "      <th>Age</th>\n",
       "      <th>SibSp</th>\n",
       "      <th>Parch</th>\n",
       "      <th>Ticket</th>\n",
       "      <th>Fare</th>\n",
       "      <th>Embarked</th>\n",
       "    </tr>\n",
       "  </thead>\n",
       "  <tbody>\n",
       "    <tr>\n",
       "      <th>173</th>\n",
       "      <td>0</td>\n",
       "      <td>3</td>\n",
       "      <td>Sivola, Mr. Antti Wilhelm</td>\n",
       "      <td>male</td>\n",
       "      <td>21.0</td>\n",
       "      <td>0</td>\n",
       "      <td>0</td>\n",
       "      <td>STON/O 2. 3101280</td>\n",
       "      <td>7.9250</td>\n",
       "      <td>S</td>\n",
       "    </tr>\n",
       "    <tr>\n",
       "      <th>355</th>\n",
       "      <td>0</td>\n",
       "      <td>3</td>\n",
       "      <td>Vanden Steen, Mr. Leo Peter</td>\n",
       "      <td>male</td>\n",
       "      <td>28.0</td>\n",
       "      <td>0</td>\n",
       "      <td>0</td>\n",
       "      <td>345783</td>\n",
       "      <td>9.5000</td>\n",
       "      <td>S</td>\n",
       "    </tr>\n",
       "    <tr>\n",
       "      <th>170</th>\n",
       "      <td>0</td>\n",
       "      <td>1</td>\n",
       "      <td>Van der hoef, Mr. Wyckoff</td>\n",
       "      <td>male</td>\n",
       "      <td>61.0</td>\n",
       "      <td>0</td>\n",
       "      <td>0</td>\n",
       "      <td>111240</td>\n",
       "      <td>33.5000</td>\n",
       "      <td>S</td>\n",
       "    </tr>\n",
       "    <tr>\n",
       "      <th>64</th>\n",
       "      <td>0</td>\n",
       "      <td>1</td>\n",
       "      <td>Stewart, Mr. Albert A</td>\n",
       "      <td>male</td>\n",
       "      <td>28.0</td>\n",
       "      <td>0</td>\n",
       "      <td>0</td>\n",
       "      <td>PC 17605</td>\n",
       "      <td>27.7208</td>\n",
       "      <td>C</td>\n",
       "    </tr>\n",
       "    <tr>\n",
       "      <th>128</th>\n",
       "      <td>1</td>\n",
       "      <td>3</td>\n",
       "      <td>Peter, Miss. Anna</td>\n",
       "      <td>female</td>\n",
       "      <td>28.0</td>\n",
       "      <td>1</td>\n",
       "      <td>1</td>\n",
       "      <td>2668</td>\n",
       "      <td>22.3583</td>\n",
       "      <td>C</td>\n",
       "    </tr>\n",
       "    <tr>\n",
       "      <th>307</th>\n",
       "      <td>1</td>\n",
       "      <td>1</td>\n",
       "      <td>Penasco y Castellana, Mrs. Victor de Satode (M...</td>\n",
       "      <td>female</td>\n",
       "      <td>17.0</td>\n",
       "      <td>1</td>\n",
       "      <td>0</td>\n",
       "      <td>PC 17758</td>\n",
       "      <td>108.9000</td>\n",
       "      <td>C</td>\n",
       "    </tr>\n",
       "    <tr>\n",
       "      <th>394</th>\n",
       "      <td>1</td>\n",
       "      <td>3</td>\n",
       "      <td>Sandstrom, Mrs. Hjalmar (Agnes Charlotta Bengt...</td>\n",
       "      <td>female</td>\n",
       "      <td>24.0</td>\n",
       "      <td>0</td>\n",
       "      <td>2</td>\n",
       "      <td>PP 9549</td>\n",
       "      <td>16.7000</td>\n",
       "      <td>S</td>\n",
       "    </tr>\n",
       "    <tr>\n",
       "      <th>804</th>\n",
       "      <td>1</td>\n",
       "      <td>3</td>\n",
       "      <td>Hedman, Mr. Oskar Arvid</td>\n",
       "      <td>male</td>\n",
       "      <td>27.0</td>\n",
       "      <td>0</td>\n",
       "      <td>0</td>\n",
       "      <td>347089</td>\n",
       "      <td>6.9750</td>\n",
       "      <td>S</td>\n",
       "    </tr>\n",
       "    <tr>\n",
       "      <th>385</th>\n",
       "      <td>0</td>\n",
       "      <td>2</td>\n",
       "      <td>Davies, Mr. Charles Henry</td>\n",
       "      <td>male</td>\n",
       "      <td>18.0</td>\n",
       "      <td>0</td>\n",
       "      <td>0</td>\n",
       "      <td>S.O.C. 14879</td>\n",
       "      <td>73.5000</td>\n",
       "      <td>S</td>\n",
       "    </tr>\n",
       "    <tr>\n",
       "      <th>408</th>\n",
       "      <td>0</td>\n",
       "      <td>3</td>\n",
       "      <td>Birkeland, Mr. Hans Martin Monsen</td>\n",
       "      <td>male</td>\n",
       "      <td>21.0</td>\n",
       "      <td>0</td>\n",
       "      <td>0</td>\n",
       "      <td>312992</td>\n",
       "      <td>7.7750</td>\n",
       "      <td>S</td>\n",
       "    </tr>\n",
       "  </tbody>\n",
       "</table>\n",
       "</div>"
      ],
      "text/plain": [
       "     Survived  Pclass                                               Name  \\\n",
       "173         0       3                          Sivola, Mr. Antti Wilhelm   \n",
       "355         0       3                        Vanden Steen, Mr. Leo Peter   \n",
       "170         0       1                          Van der hoef, Mr. Wyckoff   \n",
       "64          0       1                              Stewart, Mr. Albert A   \n",
       "128         1       3                                  Peter, Miss. Anna   \n",
       "307         1       1  Penasco y Castellana, Mrs. Victor de Satode (M...   \n",
       "394         1       3  Sandstrom, Mrs. Hjalmar (Agnes Charlotta Bengt...   \n",
       "804         1       3                            Hedman, Mr. Oskar Arvid   \n",
       "385         0       2                          Davies, Mr. Charles Henry   \n",
       "408         0       3                  Birkeland, Mr. Hans Martin Monsen   \n",
       "\n",
       "        Sex   Age  SibSp  Parch             Ticket      Fare Embarked  \n",
       "173    male  21.0      0      0  STON/O 2. 3101280    7.9250        S  \n",
       "355    male  28.0      0      0             345783    9.5000        S  \n",
       "170    male  61.0      0      0             111240   33.5000        S  \n",
       "64     male  28.0      0      0           PC 17605   27.7208        C  \n",
       "128  female  28.0      1      1               2668   22.3583        C  \n",
       "307  female  17.0      1      0           PC 17758  108.9000        C  \n",
       "394  female  24.0      0      2            PP 9549   16.7000        S  \n",
       "804    male  27.0      0      0             347089    6.9750        S  \n",
       "385    male  18.0      0      0       S.O.C. 14879   73.5000        S  \n",
       "408    male  21.0      0      0             312992    7.7750        S  "
      ]
     },
     "execution_count": 7,
     "metadata": {},
     "output_type": "execute_result"
    }
   ],
   "source": [
    "# Imputação por mediana para a coluna 'Age'\n",
    "df2['Age'].fillna(df['Age'].median(), inplace=True)\n",
    "\n",
    "# Imputação por média para a coluna 'Age'\n",
    "#df2['Age'].fillna(df['Age'].mean(), inplace=True)\n",
    "\n",
    "# Imputação por moda para a coluna 'Age'\n",
    "#df2['Age'].fillna(df['Age'].mode()[0], inplace=True)\n",
    "\n",
    "print (\"Coluna Age após imputar por média/mediana/moda: \")\n",
    "print((df2.isnull().sum()/len(df))*100)\n",
    "\n",
    "print(\"\\nDataFrame após imputação por média/mediana/moda:\")\n",
    "df2.sample(10) \n"
   ]
  },
  {
   "cell_type": "markdown",
   "id": "2f4bb31b",
   "metadata": {},
   "source": [
    "**Imputação por valor constante**: Substitui os valores nulos por um valor constante pré-definido, como zero. Essa técnica é útil quando se sabe que o valor nulo representa uma categoria específica."
   ]
  },
  {
   "cell_type": "code",
   "execution_count": 8,
   "id": "2214043e",
   "metadata": {},
   "outputs": [
    {
     "data": {
      "text/plain": [
       "Survived     0.000000\n",
       "Pclass       0.000000\n",
       "Name         0.000000\n",
       "Sex          0.000000\n",
       "Age         19.910011\n",
       "SibSp        0.000000\n",
       "Parch        0.000000\n",
       "Ticket       0.000000\n",
       "Fare         0.000000\n",
       "Embarked     0.000000\n",
       "dtype: float64"
      ]
     },
     "execution_count": 8,
     "metadata": {},
     "output_type": "execute_result"
    }
   ],
   "source": [
    "df3 = df.copy()\n",
    "(df3.isnull().sum()/len(df))*100"
   ]
  },
  {
   "cell_type": "markdown",
   "id": "b4d556de",
   "metadata": {},
   "source": [
    "**Imputação por KNN (k-Nearest Neighbors)**: Busca os k vizinhos mais próximos de uma observação com valor nulo e utiliza a média ou mediana desses vizinhos para imputar o valor ausente. <br> <br>\n",
    "Esta técnica considera a similaridade entre as observações. Ao calcular a média ou mediana dos vizinhos mais próximos, pode capturar padrões locais nos dados, tornando-a uma abordagem eficaz em muitos cenários. \n",
    "Essa técnica é útil quando os dados são numéricos e existe uma relação entre as variáveis."
   ]
  },
  {
   "cell_type": "code",
   "execution_count": 38,
   "id": "c080a6c7",
   "metadata": {},
   "outputs": [
    {
     "data": {
      "text/plain": [
       "Survived     0.000000\n",
       "Pclass       0.000000\n",
       "Name         0.000000\n",
       "Sex          0.000000\n",
       "Age         19.910011\n",
       "SibSp        0.000000\n",
       "Parch        0.000000\n",
       "Ticket       0.000000\n",
       "Fare         0.000000\n",
       "Embarked     0.000000\n",
       "dtype: float64"
      ]
     },
     "execution_count": 38,
     "metadata": {},
     "output_type": "execute_result"
    }
   ],
   "source": [
    "df5 = df.copy()\n",
    "(df5.isnull().sum()/len(df))*100"
   ]
  },
  {
   "cell_type": "code",
   "execution_count": 44,
   "id": "241e07f5",
   "metadata": {},
   "outputs": [
    {
     "data": {
      "text/plain": [
       "Survived    0.0\n",
       "Pclass      0.0\n",
       "Name        0.0\n",
       "Sex         0.0\n",
       "Age         0.0\n",
       "SibSp       0.0\n",
       "Parch       0.0\n",
       "Ticket      0.0\n",
       "Fare        0.0\n",
       "Embarked    0.0\n",
       "dtype: float64"
      ]
     },
     "execution_count": 44,
     "metadata": {},
     "output_type": "execute_result"
    }
   ],
   "source": [
    "from sklearn.impute import KNNImputer\n",
    "\n",
    "imputer = KNNImputer(n_neighbors=5)\n",
    "df5[['Age']] = imputer.fit_transform(df5[['Age']])\n",
    "\n",
    "(df5.isnull().sum()/len(df))*100"
   ]
  },
  {
   "cell_type": "markdown",
   "id": "9b65ff19",
   "metadata": {},
   "source": [
    "**Resumo:**\n",
    "\n",
    "A escolha da melhor técnica de tratamento dos valores ausentes em um conjunto de dados, depende bastante do propósito dos dados, seja para uma análise e relatório ou para alimentar um modelo de aprendizado de máquina \n",
    "\n",
    "A decisão sobre qual técnica utilizar para lidar com valores ausentes em um conjunto de dados é crucial e depende fortemente do contexto e do objetivo da análise. Cada técnica possui suas vantagens e desvantagens, e a escolha inadequada pode comprometer a qualidade dos resultados.\n",
    "\n",
    "**1. Exclusão de Dados:**\n",
    "**Quando usar:** Quando o número de dados faltantes é pequeno e não compromete significativamente a representatividade do conjunto de dados. <br> **Vantagens:** Simples e direta. <br> **Desvantagens:** Pode levar à perda de informações importantes, especialmente se os dados faltantes não forem aleatórios.\n",
    "\n",
    "**2. Imputação:**\n",
    "**Quando usar:** Quando a quantidade de dados faltantes é moderada a alta.\n",
    "\n",
    "**2.1. Tipos de imputação:**\n",
    "**Média, mediana ou moda:** Simples, mas pode introduzir viés se os dados não forem distribuídos normalmente. <br> **Imputação por uma constante:** Útil para variáveis categóricas ou quando se deseja destacar a ausência de informação. <br> **Métodos de aprendizado de máquina:** Utilizam algoritmos para prever os valores faltantes com base nas demais variáveis."
   ]
  },
  {
   "cell_type": "markdown",
   "id": "5c9085b0-f546-4164-b4f8-1b065915a458",
   "metadata": {},
   "source": [
    "Este notebook foi feito com ❤️ por Pinto Armando. \n",
    "\n",
    "🎯 **Quer acompanhar o meu trabalho e ficar por dentro das novidades em ciência de dados?**  \n",
    "Siga-me no [LinkedIn](https://www.linkedin.com/in/pinto-armando-macuacua/)."
   ]
  }
 ],
 "metadata": {
  "kernelspec": {
   "display_name": "Python 3 (ipykernel)",
   "language": "python",
   "name": "python3"
  },
  "language_info": {
   "codemirror_mode": {
    "name": "ipython",
    "version": 3
   },
   "file_extension": ".py",
   "mimetype": "text/x-python",
   "name": "python",
   "nbconvert_exporter": "python",
   "pygments_lexer": "ipython3",
   "version": "3.12.4"
  }
 },
 "nbformat": 4,
 "nbformat_minor": 5
}
