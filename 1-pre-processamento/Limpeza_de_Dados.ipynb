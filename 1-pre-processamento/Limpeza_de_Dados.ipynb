{
 "cells": [
  {
   "cell_type": "markdown",
   "metadata": {
    "id": "L2AJaRUZUkKB"
   },
   "source": [
    "# **Data Cleaning**"
   ]
  },
  {
   "cell_type": "markdown",
   "metadata": {
    "id": "aa-1lFb5UkKF"
   },
   "source": [
    "## **1. Introdução**\n",
    "\n",
    "Recentemente, houve um aumento no número de desabamentos de edifícios em Lagos e nas principais cidades da Nigéria. A Olusola Insurance Company oferece uma apólice de seguro de edifícios que protege os edifícios contra danos que podem ser causados ​​por incêndio ou vandalismo, por inundação ou tempestade.\n",
    "\n",
    "Como Cientista de Dados temos como objectivo construir um modelo preditivo para determinar se um edifício terá uma reivindicação de seguro durante um determinado período ou não.\n",
    "\n",
    "O modelo será baseado nas características do edifício. A variável alvo, Reivindicação, é:\n",
    "\n",
    "- 1 se o edifício tiver pelo menos uma reivindicação durante o período segurado.\n",
    "- 0 se o edifício não tiver uma reivindicação durante o período segurado.\n",
    "\n",
    "Ver mais sobre os dados Zindi: <a herf=\"https://zindi.africa/competitions/insurance-prediction-challenge\">Insurance Prediction Challenge</a>"
   ]
  },
  {
   "cell_type": "markdown",
   "metadata": {
    "id": "xHVDIyUfUkKG"
   },
   "source": [
    "_____________________________________________________\n",
    "\n",
    "**O processo de data cleaning (limpeza de dados) é fundamental para garantir a qualidade dos dados antes de treinar um modelo de machine learning, Neste notebook executaremos o basico de limpeza de dados**\n",
    "\n",
    "* Garbage in, garbage out, lembre sempre."
   ]
  },
  {
   "cell_type": "markdown",
   "metadata": {
    "id": "QLW8YU10UkKH"
   },
   "source": [
    "## **2. Importar modulos e Dados**"
   ]
  },
  {
   "cell_type": "markdown",
   "metadata": {},
   "source": [
    "- Neste passo, importamos as bibliotecas necessárias para manipular e analisar os dados. \n",
    "- Certifique-se de que todas as bibliotecas estão instaladas no seu ambiente Python.\n",
    "\n",
    "\n",
    "Caso não tenha as bibliotecas instaladas, remova o comentário `#` da célula abaixo e execute para instalar:\n"
   ]
  },
  {
   "cell_type": "code",
   "execution_count": 4,
   "metadata": {},
   "outputs": [],
   "source": [
    "# !pip install pandas\n",
    "# !pip install warnings"
   ]
  },
  {
   "cell_type": "code",
   "execution_count": 19,
   "metadata": {
    "id": "4SzMAS9jUkKH"
   },
   "outputs": [],
   "source": [
    "import pandas as pd # Para ler dados e estrutura em dataframe\n",
    "import warnings # Para parar os warnings, não influiencia no treino\n",
    "\n",
    "warnings.filterwarnings('ignore')"
   ]
  },
  {
   "cell_type": "code",
   "execution_count": 21,
   "metadata": {},
   "outputs": [],
   "source": [
    "# Carregar os dados de treino\n",
    "data = pd.read_csv('https://raw.githubusercontent.com/DSAI-For-Moz/guia-pratico-machine-learning/main/datasets/pre-processamento/train_data_2.csv')\n",
    "\n",
    "# Descrição dos dados\n",
    "variable_description = pd.read_csv('https://raw.githubusercontent.com/DSAI-For-Moz/guia-pratico-machine-learning/refs/heads/main/datasets/pre-processamento/VariableDescription.csv')\n"
   ]
  },
  {
   "cell_type": "code",
   "execution_count": 23,
   "metadata": {},
   "outputs": [
    {
     "name": "stdout",
     "output_type": "stream",
     "text": [
      "<class 'pandas.core.frame.DataFrame'>\n",
      "RangeIndex: 7160 entries, 0 to 7159\n",
      "Data columns (total 14 columns):\n",
      " #   Column              Non-Null Count  Dtype  \n",
      "---  ------              --------------  -----  \n",
      " 0   Customer Id         7160 non-null   object \n",
      " 1   YearOfObservation   7160 non-null   int64  \n",
      " 2   Insured_Period      7160 non-null   float64\n",
      " 3   Residential         7160 non-null   int64  \n",
      " 4   Building_Painted    7160 non-null   object \n",
      " 5   Building_Fenced     7160 non-null   object \n",
      " 6   Garden              7153 non-null   object \n",
      " 7   Settlement          7160 non-null   object \n",
      " 8   Building Dimension  7054 non-null   float64\n",
      " 9   Building_Type       7160 non-null   int64  \n",
      " 10  Date_of_Occupancy   6652 non-null   float64\n",
      " 11  NumberOfWindows     7160 non-null   object \n",
      " 12  Geo_Code            7058 non-null   object \n",
      " 13  Claim               7160 non-null   int64  \n",
      "dtypes: float64(3), int64(4), object(7)\n",
      "memory usage: 783.3+ KB\n"
     ]
    }
   ],
   "source": [
    "# Informações dos dados\n",
    "data.info()"
   ]
  },
  {
   "cell_type": "code",
   "execution_count": null,
   "metadata": {
    "id": "MAvVzhMZUkKK",
    "outputId": "6fe9753b-14d8-4d79-f6b2-eb108780185b"
   },
   "outputs": [
    {
     "data": {
      "text/html": [
       "<div>\n",
       "<style scoped>\n",
       "    .dataframe tbody tr th:only-of-type {\n",
       "        vertical-align: middle;\n",
       "    }\n",
       "\n",
       "    .dataframe tbody tr th {\n",
       "        vertical-align: top;\n",
       "    }\n",
       "\n",
       "    .dataframe thead th {\n",
       "        text-align: right;\n",
       "    }\n",
       "</style>\n",
       "<table border=\"1\" class=\"dataframe\">\n",
       "  <thead>\n",
       "    <tr style=\"text-align: right;\">\n",
       "      <th></th>\n",
       "      <th>Variable</th>\n",
       "      <th>Description</th>\n",
       "    </tr>\n",
       "  </thead>\n",
       "  <tbody>\n",
       "    <tr>\n",
       "      <th>0</th>\n",
       "      <td>Customer Id</td>\n",
       "      <td>Identification number for the Policy holder</td>\n",
       "    </tr>\n",
       "    <tr>\n",
       "      <th>1</th>\n",
       "      <td>YearOfObservation</td>\n",
       "      <td>year of observation for the insured policy</td>\n",
       "    </tr>\n",
       "    <tr>\n",
       "      <th>2</th>\n",
       "      <td>Insured_Period</td>\n",
       "      <td>duration of insurance policy in Olusola Insura...</td>\n",
       "    </tr>\n",
       "    <tr>\n",
       "      <th>3</th>\n",
       "      <td>Residential</td>\n",
       "      <td>is the building a residential building or not</td>\n",
       "    </tr>\n",
       "    <tr>\n",
       "      <th>4</th>\n",
       "      <td>Building_Painted</td>\n",
       "      <td>is the building painted or not (N-Painted, V-N...</td>\n",
       "    </tr>\n",
       "    <tr>\n",
       "      <th>5</th>\n",
       "      <td>Building_Fenced</td>\n",
       "      <td>is the building fence or not (N-Fenced, V-Not ...</td>\n",
       "    </tr>\n",
       "    <tr>\n",
       "      <th>6</th>\n",
       "      <td>Garden</td>\n",
       "      <td>building has garden or not (V-has garden; O-no...</td>\n",
       "    </tr>\n",
       "    <tr>\n",
       "      <th>7</th>\n",
       "      <td>Settlement</td>\n",
       "      <td>Area where the building is located. (R- rural ...</td>\n",
       "    </tr>\n",
       "    <tr>\n",
       "      <th>8</th>\n",
       "      <td>Building Dimension</td>\n",
       "      <td>Size of the insured building in m2</td>\n",
       "    </tr>\n",
       "    <tr>\n",
       "      <th>9</th>\n",
       "      <td>Building_Type</td>\n",
       "      <td>The type of building (Type 1, 2, 3, 4)</td>\n",
       "    </tr>\n",
       "    <tr>\n",
       "      <th>10</th>\n",
       "      <td>Date_of_Occupancy</td>\n",
       "      <td>date building was first occupied</td>\n",
       "    </tr>\n",
       "    <tr>\n",
       "      <th>11</th>\n",
       "      <td>NumberOfWindows</td>\n",
       "      <td>number of windows in the building</td>\n",
       "    </tr>\n",
       "    <tr>\n",
       "      <th>12</th>\n",
       "      <td>Geo Code</td>\n",
       "      <td>Geographical Code of the Insured building</td>\n",
       "    </tr>\n",
       "    <tr>\n",
       "      <th>13</th>\n",
       "      <td>Claim</td>\n",
       "      <td>target variable. (0: no claim, 1: at least one...</td>\n",
       "    </tr>\n",
       "  </tbody>\n",
       "</table>\n",
       "</div>"
      ],
      "text/plain": [
       "              Variable                                        Description\n",
       "0          Customer Id        Identification number for the Policy holder\n",
       "1    YearOfObservation         year of observation for the insured policy\n",
       "2       Insured_Period  duration of insurance policy in Olusola Insura...\n",
       "3          Residential      is the building a residential building or not\n",
       "4     Building_Painted  is the building painted or not (N-Painted, V-N...\n",
       "5      Building_Fenced  is the building fence or not (N-Fenced, V-Not ...\n",
       "6               Garden  building has garden or not (V-has garden; O-no...\n",
       "7           Settlement  Area where the building is located. (R- rural ...\n",
       "8   Building Dimension                 Size of the insured building in m2\n",
       "9        Building_Type             The type of building (Type 1, 2, 3, 4)\n",
       "10   Date_of_Occupancy                   date building was first occupied\n",
       "11     NumberOfWindows                  number of windows in the building\n",
       "12            Geo Code          Geographical Code of the Insured building\n",
       "13               Claim  target variable. (0: no claim, 1: at least one..."
      ]
     },
     "execution_count": 91,
     "metadata": {},
     "output_type": "execute_result"
    }
   ],
   "source": [
    "# Imprir a descrição dos dados\n",
    "variable_description"
   ]
  },
  {
   "cell_type": "code",
   "execution_count": null,
   "metadata": {
    "id": "_qqMHmZ7UkKL",
    "outputId": "4adf7a80-be81-4816-93fb-3707b65b63a0"
   },
   "outputs": [
    {
     "data": {
      "text/html": [
       "<div>\n",
       "<style scoped>\n",
       "    .dataframe tbody tr th:only-of-type {\n",
       "        vertical-align: middle;\n",
       "    }\n",
       "\n",
       "    .dataframe tbody tr th {\n",
       "        vertical-align: top;\n",
       "    }\n",
       "\n",
       "    .dataframe thead th {\n",
       "        text-align: right;\n",
       "    }\n",
       "</style>\n",
       "<table border=\"1\" class=\"dataframe\">\n",
       "  <thead>\n",
       "    <tr style=\"text-align: right;\">\n",
       "      <th></th>\n",
       "      <th>Customer Id</th>\n",
       "      <th>YearOfObservation</th>\n",
       "      <th>Insured_Period</th>\n",
       "      <th>Residential</th>\n",
       "      <th>Building_Painted</th>\n",
       "      <th>Building_Fenced</th>\n",
       "      <th>Garden</th>\n",
       "      <th>Settlement</th>\n",
       "      <th>Building Dimension</th>\n",
       "      <th>Building_Type</th>\n",
       "      <th>Date_of_Occupancy</th>\n",
       "      <th>NumberOfWindows</th>\n",
       "      <th>Geo_Code</th>\n",
       "      <th>Claim</th>\n",
       "    </tr>\n",
       "  </thead>\n",
       "  <tbody>\n",
       "    <tr>\n",
       "      <th>0</th>\n",
       "      <td>H14663</td>\n",
       "      <td>2013</td>\n",
       "      <td>1.0</td>\n",
       "      <td>0</td>\n",
       "      <td>N</td>\n",
       "      <td>V</td>\n",
       "      <td>V</td>\n",
       "      <td>U</td>\n",
       "      <td>290.0</td>\n",
       "      <td>1</td>\n",
       "      <td>1960.0</td>\n",
       "      <td>.</td>\n",
       "      <td>1053</td>\n",
       "      <td>0</td>\n",
       "    </tr>\n",
       "    <tr>\n",
       "      <th>1</th>\n",
       "      <td>H2037</td>\n",
       "      <td>2015</td>\n",
       "      <td>1.0</td>\n",
       "      <td>0</td>\n",
       "      <td>V</td>\n",
       "      <td>N</td>\n",
       "      <td>O</td>\n",
       "      <td>R</td>\n",
       "      <td>490.0</td>\n",
       "      <td>1</td>\n",
       "      <td>1850.0</td>\n",
       "      <td>4</td>\n",
       "      <td>1053</td>\n",
       "      <td>0</td>\n",
       "    </tr>\n",
       "    <tr>\n",
       "      <th>2</th>\n",
       "      <td>H3802</td>\n",
       "      <td>2014</td>\n",
       "      <td>1.0</td>\n",
       "      <td>0</td>\n",
       "      <td>N</td>\n",
       "      <td>V</td>\n",
       "      <td>V</td>\n",
       "      <td>U</td>\n",
       "      <td>595.0</td>\n",
       "      <td>1</td>\n",
       "      <td>1960.0</td>\n",
       "      <td>.</td>\n",
       "      <td>1053</td>\n",
       "      <td>0</td>\n",
       "    </tr>\n",
       "    <tr>\n",
       "      <th>3</th>\n",
       "      <td>H3834</td>\n",
       "      <td>2013</td>\n",
       "      <td>1.0</td>\n",
       "      <td>0</td>\n",
       "      <td>V</td>\n",
       "      <td>V</td>\n",
       "      <td>V</td>\n",
       "      <td>U</td>\n",
       "      <td>2840.0</td>\n",
       "      <td>1</td>\n",
       "      <td>1960.0</td>\n",
       "      <td>.</td>\n",
       "      <td>1053</td>\n",
       "      <td>0</td>\n",
       "    </tr>\n",
       "    <tr>\n",
       "      <th>4</th>\n",
       "      <td>H5053</td>\n",
       "      <td>2014</td>\n",
       "      <td>1.0</td>\n",
       "      <td>0</td>\n",
       "      <td>V</td>\n",
       "      <td>N</td>\n",
       "      <td>O</td>\n",
       "      <td>R</td>\n",
       "      <td>680.0</td>\n",
       "      <td>1</td>\n",
       "      <td>1800.0</td>\n",
       "      <td>3</td>\n",
       "      <td>1053</td>\n",
       "      <td>0</td>\n",
       "    </tr>\n",
       "  </tbody>\n",
       "</table>\n",
       "</div>"
      ],
      "text/plain": [
       "  Customer Id  YearOfObservation  Insured_Period  Residential  \\\n",
       "0      H14663               2013             1.0            0   \n",
       "1       H2037               2015             1.0            0   \n",
       "2       H3802               2014             1.0            0   \n",
       "3       H3834               2013             1.0            0   \n",
       "4       H5053               2014             1.0            0   \n",
       "\n",
       "  Building_Painted Building_Fenced Garden Settlement  Building Dimension  \\\n",
       "0                N               V      V          U               290.0   \n",
       "1                V               N      O          R               490.0   \n",
       "2                N               V      V          U               595.0   \n",
       "3                V               V      V          U              2840.0   \n",
       "4                V               N      O          R               680.0   \n",
       "\n",
       "   Building_Type  Date_of_Occupancy NumberOfWindows Geo_Code  Claim  \n",
       "0              1             1960.0               .     1053      0  \n",
       "1              1             1850.0               4     1053      0  \n",
       "2              1             1960.0               .     1053      0  \n",
       "3              1             1960.0               .     1053      0  \n",
       "4              1             1800.0               3     1053      0  "
      ]
     },
     "execution_count": 92,
     "metadata": {},
     "output_type": "execute_result"
    }
   ],
   "source": [
    "# Resumo dos dados\n",
    "data.head()"
   ]
  },
  {
   "cell_type": "markdown",
   "metadata": {
    "id": "8r68cW56UkKL"
   },
   "source": [
    "*A primeira análise dos dados mostra que o dataset tem 7.160 registros e 14 colunas, com alguns valores ausentes e tipos de dados misturados. Vamos aplicar data cleaning passo a passo, explicando cada etapa:*"
   ]
  },
  {
   "cell_type": "markdown",
   "metadata": {
    "id": "GyYvGN-lUkKM"
   },
   "source": [
    "## **3. Dados Ausentes**"
   ]
  },
  {
   "cell_type": "markdown",
   "metadata": {
    "id": "GUxA1CeNUkKM"
   },
   "source": [
    "**Verificar dados ausentes**"
   ]
  },
  {
   "cell_type": "code",
   "execution_count": null,
   "metadata": {
    "id": "M4ulYIhbUkKM",
    "outputId": "990cc399-8417-4f5f-d1d2-584a549f2f29"
   },
   "outputs": [
    {
     "data": {
      "text/plain": [
       "Customer Id             0\n",
       "YearOfObservation       0\n",
       "Insured_Period          0\n",
       "Residential             0\n",
       "Building_Painted        0\n",
       "Building_Fenced         0\n",
       "Garden                  7\n",
       "Settlement              0\n",
       "Building Dimension    106\n",
       "Building_Type           0\n",
       "Date_of_Occupancy     508\n",
       "NumberOfWindows         0\n",
       "Geo_Code              102\n",
       "Claim                   0\n",
       "dtype: int64"
      ]
     },
     "execution_count": 93,
     "metadata": {},
     "output_type": "execute_result"
    }
   ],
   "source": [
    "# Verificar dados ausentes\n",
    "data.isnull().sum()"
   ]
  },
  {
   "cell_type": "markdown",
   "metadata": {
    "id": "-Phx6h3eUkKM"
   },
   "source": [
    "**Colunas com valores ausentes:**\n",
    "\n",
    "- Garden;\n",
    "- Building Dimension;\n",
    "- Date_of_Occupancy;\n",
    "- Geo_Code;"
   ]
  },
  {
   "cell_type": "markdown",
   "metadata": {
    "id": "d0mHQKy0UkKM"
   },
   "source": [
    "Opções?\n",
    "\n",
    "1. **Remover linhas ou colunas:** Se houver muitas entradas faltantes em uma coluna ou linha, pode ser apropriado remover essas linhas ou colunas.\n",
    "\n",
    "    **Pró:** Fácil de implementar, garante que apenas dados completos sejam utilizados.\n",
    "\n",
    "    **Contra:** Perda de informações, especialmente se houver muitos dados ausentes."
   ]
  },
  {
   "cell_type": "markdown",
   "metadata": {
    "id": "jkLezAcrUkKM"
   },
   "source": [
    "2. **Substituir valores ausentes:** Preencher valores ausentes com a média, mediana, moda ou usar técnicas mais avançadas, como interpolação ou imputação por modelos, mas por enqunato seguiremos com o básico.\n",
    "\n",
    "    **Pró:** Mantém o máximo de dados possível.\n",
    "\n",
    "    **Contra:** Pode introduzir viés, especialmente se os valores imputados não forem representativos."
   ]
  },
  {
   "cell_type": "code",
   "execution_count": null,
   "metadata": {
    "id": "2RWgPIqGUkKN"
   },
   "outputs": [],
   "source": [
    "# Preencher o campo 'Garden' ausente com o moda (valor mais frequente)\n",
    "data['Garden'].fillna(data['Garden'].mode()[0], inplace=True)\n",
    "\n",
    "# Preencher 'Building Dimension' e 'Date_of_Occupancy' ausentes com a mediana\n",
    "data['Building Dimension'].fillna(data['Building Dimension'].median(), inplace=True)\n",
    "data['Date_of_Occupancy'].fillna(data['Date_of_Occupancy'].median(), inplace=True)\n",
    "\n",
    "# Descartar linhas com 'Geo_Code' ausente\n",
    "data.dropna(subset=['Geo_Code'], inplace=True)"
   ]
  },
  {
   "cell_type": "code",
   "execution_count": null,
   "metadata": {
    "id": "GjngsUy0UkKN",
    "outputId": "d48d1a69-f92d-4ac4-aca7-b316ef44f603"
   },
   "outputs": [
    {
     "data": {
      "text/plain": [
       "Customer Id           0\n",
       "YearOfObservation     0\n",
       "Insured_Period        0\n",
       "Residential           0\n",
       "Building_Painted      0\n",
       "Building_Fenced       0\n",
       "Garden                0\n",
       "Settlement            0\n",
       "Building Dimension    0\n",
       "Building_Type         0\n",
       "Date_of_Occupancy     0\n",
       "NumberOfWindows       0\n",
       "Geo_Code              0\n",
       "Claim                 0\n",
       "dtype: int64"
      ]
     },
     "execution_count": 95,
     "metadata": {},
     "output_type": "execute_result"
    }
   ],
   "source": [
    "# Verificar novamente\n",
    "data.isnull().sum()"
   ]
  },
  {
   "cell_type": "markdown",
   "metadata": {
    "id": "kRfLAxNyUkKN"
   },
   "source": [
    "Podemos confirmar que estamos sem valores ausentes"
   ]
  },
  {
   "cell_type": "markdown",
   "metadata": {
    "id": "KrzIamPWUkKN"
   },
   "source": [
    "## **4. Tratamento de Valores Inválidos**"
   ]
  },
  {
   "cell_type": "markdown",
   "metadata": {
    "id": "2AeWlsKpUkKN"
   },
   "source": [
    "1. **Erros de digitação ou inconsistências:** Detectar e corrigir valores que fogem do padrão ou que foram introduzidos erroneamente.\n",
    "\n",
    "2. **Valores fora do intervalo esperado (outliers):** Detectar valores que estão muito além do intervalo esperado. Dependendo da situação.\n",
    "\n"
   ]
  },
  {
   "cell_type": "markdown",
   "metadata": {
    "id": "yg0vuRsMUkKN"
   },
   "source": [
    "A coluna **NumberOfWindows** contém um ponto (.) e >=10 em alguns registros, o que indica valores inválidos, e edificios com mais de 10 janelas, como referece a número de janelas de um edificio, vamos colocar moda para subustituir os pontos e no outro caso manteremos o 10.\n",
    "\n",
    "Prós e contras:\n",
    "- **Pró:** Mantém o dado para treinamento.\n",
    "- **Contra:** Pode não ser uma boa representação se o valor original era muito diferente."
   ]
  },
  {
   "cell_type": "code",
   "execution_count": null,
   "metadata": {
    "id": "p8Zcu0glUkKN"
   },
   "outputs": [],
   "source": [
    "# Substituiremos o '.' por NaN e então preencheremos com o valor mais frequente\n",
    "data['NumberOfWindows'] = data['NumberOfWindows'].replace(r'\\.', pd.NA, regex=True)\n",
    "data['NumberOfWindows'] = data['NumberOfWindows'].replace(r'>=10',10, regex=True)\n",
    "data['NumberOfWindows'].fillna(data['NumberOfWindows'].mode()[0], inplace=True)"
   ]
  },
  {
   "cell_type": "markdown",
   "metadata": {
    "id": "tbG0bTeIUkKO"
   },
   "source": [
    "## **3.3. Verificação de Duplicatas**"
   ]
  },
  {
   "cell_type": "markdown",
   "metadata": {
    "id": "pVEXQRWbUkKO"
   },
   "source": [
    "Verificar se existem registros duplicados, já que duplicatas podem distorcer o treinamento."
   ]
  },
  {
   "cell_type": "code",
   "execution_count": null,
   "metadata": {
    "id": "Ff0RER-KUkKO",
    "outputId": "8d5eecd8-6032-4419-bb61-09efd53c0537"
   },
   "outputs": [
    {
     "name": "stdout",
     "output_type": "stream",
     "text": [
      "8\n"
     ]
    }
   ],
   "source": [
    "# Eliminado o Customer ID pois não há representatividade, cada id é unico\n",
    "data = data.drop('Customer Id', axis=1)\n",
    "\n",
    "# Identificar duplicatas\n",
    "duplicated_rows = data[data.duplicated()]\n",
    "\n",
    "# Exibir duplicatas (Não temos)\n",
    "print(len(duplicated_rows))\n"
   ]
  },
  {
   "cell_type": "markdown",
   "metadata": {
    "id": "Hx6kIrXfUkKO"
   },
   "source": [
    "Temos 8 registros duplicados"
   ]
  },
  {
   "cell_type": "code",
   "execution_count": null,
   "metadata": {
    "id": "6_azQx70UkKO"
   },
   "outputs": [],
   "source": [
    "# Remover duplicatas, mantendo a primeira ocorrência\n",
    "data_cleaned = data.drop_duplicates(keep='first')"
   ]
  },
  {
   "cell_type": "code",
   "execution_count": null,
   "metadata": {
    "id": "Bo40If1rUkKP"
   },
   "outputs": [],
   "source": [
    "# Salvando os dados para utilizar nos modelos\n",
    "data_cleaned.to_csv('data-science-nigeria-2019-challenge-1-insurance-prediction/data_cleaned.csv', index=False)"
   ]
  },
  {
   "cell_type": "markdown",
   "metadata": {
    "id": "LoL7KOxpUkKP"
   },
   "source": [
    "*\"Em algum lugar, algo incrível está esperando para ser descoberto.\"* - Carl Sagan"
   ]
  },
  {
   "cell_type": "markdown",
   "metadata": {
    "id": "b7E888hqUkKP"
   },
   "source": [
    "TEM MAIS 🚀🚀\n",
    "\n",
    "Ver mais: <a herf=\"decision_tree.ipynb\">Decision Tree</a> <br>\n",
    "Ver mais: <a herf=\"decision_tree.ipynb\">Supporte Vector Machine</a>\n",
    "\n",
    "by Do Rosário, Euclides"
   ]
  },
  {
   "cell_type": "markdown",
   "metadata": {
    "id": "CYlMfsCGUkKP"
   },
   "source": []
  }
 ],
 "metadata": {
  "colab": {
   "provenance": []
  },
  "kernelspec": {
   "display_name": "Python 3 (ipykernel)",
   "language": "python",
   "name": "python3"
  },
  "language_info": {
   "codemirror_mode": {
    "name": "ipython",
    "version": 3
   },
   "file_extension": ".py",
   "mimetype": "text/x-python",
   "name": "python",
   "nbconvert_exporter": "python",
   "pygments_lexer": "ipython3",
   "version": "3.12.4"
  }
 },
 "nbformat": 4,
 "nbformat_minor": 4
}
